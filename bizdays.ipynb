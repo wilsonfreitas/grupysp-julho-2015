{
 "cells": [
  {
   "cell_type": "markdown",
   "metadata": {
    "slideshow": {
     "slide_type": "slide"
    }
   },
   "source": [
    "\n",
    "# [bizdays](https://pypi.python.org/pypi/bizdays/v0.2.0): Dias Úteis em Qualquer Calendário\n",
    "\n",
    "## Grupy-SP—julho/2015\n",
    "\n",
    "<br><br><br>\n",
    "<div style=\"text-align: right\">\n",
    "Wilson Freitas<br>\n",
    "<a href=\"http://aboutwilson.net\">http://aboutwilson.net</a><br>\n",
    "<a href=\"http://www.twitter.com/aboutwilson\">@aboutwilson</a>\n",
    "</div>"
   ]
  },
  {
   "cell_type": "markdown",
   "metadata": {
    "slideshow": {
     "slide_type": "slide"
    }
   },
   "source": [
    "# Sobre mim\n",
    "\n",
    "### Wilson Freitas\n",
    "\n",
    "- quant\n",
    "- físico\n",
    "- corredor\n",
    "- padeiro\n",
    "\n",
    "---\n",
    "\n",
    "### Background\n",
    "\n",
    "- Sistemas Complexos\n",
    "- Finanças Quantitativas\n",
    "- Matemática\n",
    "\n",
    "---\n",
    "\n",
    "### Programação\n",
    "\n",
    "- R, Python, MATLAB, C/C++"
   ]
  },
  {
   "cell_type": "markdown",
   "metadata": {
    "slideshow": {
     "slide_type": "slide"
    }
   },
   "source": [
    "## Motivação\n",
    "\n",
    "O mercado financeiro brasileiro possui diversas particularidas que complicam a simples tarefa de calcular os preços dos ativos financeiros.\n",
    "\n",
    "- liquidação de contratos de dólar com a cotação do dia anterior\n",
    "- contratos com vencimento fixo ao contrário do resto do mundo que negocia prazos fixos\n",
    "- regras absurdas para definição de vencimentos\n",
    "- e ...\n",
    "- vigência do contrato em **dias úteis**, para diferentes calendários\n",
    "- entre outras\n",
    "\n",
    "Aqui vamos falar sobre como os desafios de lidar com dias úteis foram vencidos utilizando **Python**."
   ]
  },
  {
   "cell_type": "markdown",
   "metadata": {
    "slideshow": {
     "slide_type": "slide"
    }
   },
   "source": [
    "## Contagem de dias úteis\n",
    "\n",
    "- No Brasil as taxas de juros são calculadas em dias úteis\n",
    "- Herança do período inflacionário\n",
    "- O problema é que com as taxas de juros apuradas em dias úteis força que todos os demais contratos sigam a mesma convenção:\n",
    "    - contratos futuros, títulos públicos, opções\n",
    "- Diferentes mercados diferentes regras:\n",
    "    - Mercado de derivativos (antiga BM&F) possui um calendário de feriados\n",
    "    - Mercado de ações (antiga Bovespa) possui outro calendário\n",
    "    - Contratos de moedas utilizam dias corridos\n",
    "\n",
    "Problema: diferentes ativos precisam lidar com a contagem de dias de forma diferente"
   ]
  },
  {
   "cell_type": "markdown",
   "metadata": {
    "collapsed": false,
    "slideshow": {
     "slide_type": "slide"
    }
   },
   "source": [
    "## Módulo python-bizdays\n",
    "\n",
    "### História\n",
    "\n",
    "- A contagem em dias foi desenvolvida para o módulo [python-fixedincome](https://github.com/wilsonfreitas/python-fixedincome)\n",
    "- `bizdays` nasceu em R em set/2013\n",
    "- Foi portado para Python em seguida\n",
    "\n",
    "---\n",
    "\n",
    "### Objetivos\n",
    "\n",
    "- Objetivo 1: realizar operações com dias úteis!\n",
    "- Objetivo 2: fazer uma coisa tão simples de usar quanto a função `NETWORKDAYS` do Excel\n",
    "- Objetivo 3: Poder lidar com mais de 1 calendário sem `if`\n"
   ]
  },
  {
   "cell_type": "markdown",
   "metadata": {
    "slideshow": {
     "slide_type": "slide"
    }
   },
   "source": [
    "## bizdays in action"
   ]
  },
  {
   "cell_type": "code",
   "execution_count": 1,
   "metadata": {
    "collapsed": false,
    "slideshow": {
     "slide_type": "fragment"
    }
   },
   "outputs": [],
   "source": [
    "from bizdays import Calendar\n",
    "\n",
    "holidays = ['2015-01-01', '2015-02-16', '2015-02-17', '2015-04-03', '2015-04-21',\n",
    "            '2015-05-01', '2015-06-04', '2015-09-07', '2015-10-12', '2015-11-02',\n",
    "            '2015-11-15', '2015-12-25', '2016-01-01']\n",
    "cal = Calendar(holidays=holidays, weekdays=['Sunday', 'Saturday'])"
   ]
  },
  {
   "cell_type": "code",
   "execution_count": 2,
   "metadata": {
    "collapsed": false,
    "slideshow": {
     "slide_type": "fragment"
    }
   },
   "outputs": [
    {
     "data": {
      "text/plain": [
       "False"
      ]
     },
     "execution_count": 2,
     "metadata": {},
     "output_type": "execute_result"
    }
   ],
   "source": [
    "# Dia do Trabalho é dia útil?\n",
    "cal.isbizday('2015-05-01')"
   ]
  },
  {
   "cell_type": "code",
   "execution_count": 3,
   "metadata": {
    "collapsed": false,
    "slideshow": {
     "slide_type": "fragment"
    }
   },
   "outputs": [
    {
     "data": {
      "text/plain": [
       "False"
      ]
     },
     "execution_count": 3,
     "metadata": {},
     "output_type": "execute_result"
    }
   ],
   "source": [
    "# 12/07/2015 (domingo) é dia útil?\n",
    "cal.isbizday('2015-07-12')"
   ]
  },
  {
   "cell_type": "code",
   "execution_count": 4,
   "metadata": {
    "collapsed": false,
    "slideshow": {
     "slide_type": "fragment"
    }
   },
   "outputs": [
    {
     "data": {
      "text/plain": [
       "True"
      ]
     },
     "execution_count": 4,
     "metadata": {},
     "output_type": "execute_result"
    }
   ],
   "source": [
    "# 03/08/2015 (sengunda-feira) é dia útil?\n",
    "cal.isbizday('2015-08-03')"
   ]
  },
  {
   "cell_type": "code",
   "execution_count": 5,
   "metadata": {
    "collapsed": false,
    "slideshow": {
     "slide_type": "subslide"
    }
   },
   "outputs": [
    {
     "data": {
      "text/plain": [
       "249"
      ]
     },
     "execution_count": 5,
     "metadata": {},
     "output_type": "execute_result"
    }
   ],
   "source": [
    "# Quantidade de dias úteis no ano:\n",
    "cal.bizdays('2015-01-01', '2015-12-31')"
   ]
  },
  {
   "cell_type": "code",
   "execution_count": 6,
   "metadata": {
    "collapsed": false,
    "slideshow": {
     "slide_type": "fragment"
    }
   },
   "outputs": [
    {
     "data": {
      "text/plain": [
       "133"
      ]
     },
     "execution_count": 6,
     "metadata": {},
     "output_type": "execute_result"
    }
   ],
   "source": [
    "# Quantidade de dias úteis até hoje:\n",
    "cal.bizdays('2015-01-01', '2015-07-16')"
   ]
  },
  {
   "cell_type": "code",
   "execution_count": 7,
   "metadata": {
    "collapsed": false,
    "slideshow": {
     "slide_type": "fragment"
    }
   },
   "outputs": [
    {
     "data": {
      "text/plain": [
       "[datetime.date(2015, 4, 1),\n",
       " datetime.date(2015, 4, 2),\n",
       " datetime.date(2015, 4, 6),\n",
       " datetime.date(2015, 4, 7),\n",
       " datetime.date(2015, 4, 8),\n",
       " datetime.date(2015, 4, 9),\n",
       " datetime.date(2015, 4, 10),\n",
       " datetime.date(2015, 4, 13),\n",
       " datetime.date(2015, 4, 14),\n",
       " datetime.date(2015, 4, 15)]"
      ]
     },
     "execution_count": 7,
     "metadata": {},
     "output_type": "execute_result"
    }
   ],
   "source": [
    "# Todos os dias úteis em um período, pex primeira quinzena de abril\n",
    "list(cal.seq('2015-04-01', '2015-04-15'))"
   ]
  },
  {
   "cell_type": "markdown",
   "metadata": {
    "slideshow": {
     "slide_type": "slide"
    }
   },
   "source": [
    "## Cálculo de preços de ativos financeiros\n",
    "\n",
    "- Os ativos financeiros tem data de vencimento fixa\n",
    "    - Contratos Futuros de taxas de juros (DI1) expiram no dia 01 do mês de vencimento\n",
    "\n",
    "#### Use `adjust_next` (ou `adjust_previous`)"
   ]
  },
  {
   "cell_type": "code",
   "execution_count": 8,
   "metadata": {
    "collapsed": false,
    "slideshow": {
     "slide_type": "fragment"
    }
   },
   "outputs": [],
   "source": [
    "refdate = '2015-03-12'\n",
    "maturity = '2015-05-01'"
   ]
  },
  {
   "cell_type": "code",
   "execution_count": 9,
   "metadata": {
    "collapsed": false,
    "slideshow": {
     "slide_type": "fragment"
    }
   },
   "outputs": [
    {
     "data": {
      "text/plain": [
       "33"
      ]
     },
     "execution_count": 9,
     "metadata": {},
     "output_type": "execute_result"
    }
   ],
   "source": [
    "cal.bizdays(refdate, maturity)"
   ]
  },
  {
   "cell_type": "code",
   "execution_count": 10,
   "metadata": {
    "collapsed": false,
    "slideshow": {
     "slide_type": "fragment"
    }
   },
   "outputs": [
    {
     "data": {
      "text/plain": [
       "datetime.date(2015, 5, 4)"
      ]
     },
     "execution_count": 10,
     "metadata": {},
     "output_type": "execute_result"
    }
   ],
   "source": [
    "cal.adjust_next(maturity)"
   ]
  },
  {
   "cell_type": "code",
   "execution_count": 11,
   "metadata": {
    "collapsed": false,
    "slideshow": {
     "slide_type": "fragment"
    }
   },
   "outputs": [
    {
     "data": {
      "text/plain": [
       "34"
      ]
     },
     "execution_count": 11,
     "metadata": {},
     "output_type": "execute_result"
    }
   ],
   "source": [
    "cal.bizdays(refdate, cal.adjust_next(maturity))"
   ]
  },
  {
   "cell_type": "markdown",
   "metadata": {
    "slideshow": {
     "slide_type": "subslide"
    }
   },
   "source": [
    "### Também trabalha com vetores de datas (atributo `vec` :/)"
   ]
  },
  {
   "cell_type": "code",
   "execution_count": 12,
   "metadata": {
    "collapsed": false,
    "slideshow": {
     "slide_type": "fragment"
    }
   },
   "outputs": [],
   "source": [
    "refdate = '2015-03-12'\n",
    "maturities = ['2015-05-01', '2015-06-01', '2015-08-01']"
   ]
  },
  {
   "cell_type": "code",
   "execution_count": 13,
   "metadata": {
    "collapsed": false,
    "slideshow": {
     "slide_type": "fragment"
    }
   },
   "outputs": [
    {
     "data": {
      "text/plain": [
       "[datetime.date(2015, 5, 4),\n",
       " datetime.date(2015, 6, 1),\n",
       " datetime.date(2015, 8, 3)]"
      ]
     },
     "execution_count": 13,
     "metadata": {},
     "output_type": "execute_result"
    }
   ],
   "source": [
    "list(cal.vec.adjust_next(maturities))"
   ]
  },
  {
   "cell_type": "code",
   "execution_count": 14,
   "metadata": {
    "collapsed": false,
    "slideshow": {
     "slide_type": "fragment"
    }
   },
   "outputs": [
    {
     "data": {
      "text/plain": [
       "[34, 54, 98]"
      ]
     },
     "execution_count": 14,
     "metadata": {},
     "output_type": "execute_result"
    }
   ],
   "source": [
    "list(cal.vec.bizdays(refdate, list(cal.vec.adjust_next(maturities))))"
   ]
  },
  {
   "cell_type": "markdown",
   "metadata": {
    "slideshow": {
     "slide_type": "slide"
    }
   },
   "source": [
    "## Manipulando curvas de taxas de juros"
   ]
  },
  {
   "cell_type": "code",
   "execution_count": 15,
   "metadata": {
    "collapsed": true,
    "slideshow": {
     "slide_type": "fragment"
    }
   },
   "outputs": [],
   "source": [
    "import pandas as pd"
   ]
  },
  {
   "cell_type": "markdown",
   "metadata": {
    "slideshow": {
     "slide_type": "fragment"
    }
   },
   "source": [
    "### Carregando um calendário em um arquivo"
   ]
  },
  {
   "cell_type": "code",
   "execution_count": 16,
   "metadata": {
    "collapsed": false,
    "slideshow": {
     "slide_type": "fragment"
    }
   },
   "outputs": [
    {
     "name": "stdout",
     "output_type": "stream",
     "text": [
      "Saturday\r\n",
      "Sunday\r\n",
      "2000-01-01\r\n",
      "2000-03-06\r\n",
      "2000-03-07\r\n",
      "2000-04-21\r\n"
     ]
    }
   ],
   "source": [
    "!head -6 ANBIMA.cal"
   ]
  },
  {
   "cell_type": "code",
   "execution_count": 17,
   "metadata": {
    "collapsed": true,
    "slideshow": {
     "slide_type": "fragment"
    }
   },
   "outputs": [],
   "source": [
    "cal252 = Calendar.load('ANBIMA.cal')\n",
    "cal360 = Calendar()"
   ]
  },
  {
   "cell_type": "markdown",
   "metadata": {
    "slideshow": {
     "slide_type": "subslide"
    }
   },
   "source": [
    "### Carregando taxas de juros divulgadas pela BM&FBovespa"
   ]
  },
  {
   "cell_type": "code",
   "execution_count": 18,
   "metadata": {
    "collapsed": false,
    "slideshow": {
     "slide_type": "fragment"
    }
   },
   "outputs": [
    {
     "data": {
      "text/plain": [
       "DC           object\n",
       "Taxa_252     object\n",
       "Taxa_360    float64\n",
       "dtype: object"
      ]
     },
     "execution_count": 18,
     "metadata": {},
     "output_type": "execute_result"
    }
   ],
   "source": [
    "url = 'http://www2.bmf.com.br/pages/portal/bmfbovespa/boletim1/TxRef1.asp'\n",
    "dfs = pd.read_html(url)\n",
    "curva = dfs[2].ix[2:]\n",
    "curva.columns = ['DC', 'Taxa_252', 'Taxa_360']\n",
    "curva.index = range(1, len(curva)+1)\n",
    "curva.dtypes"
   ]
  },
  {
   "cell_type": "code",
   "execution_count": 19,
   "metadata": {
    "collapsed": false,
    "slideshow": {
     "slide_type": "fragment"
    }
   },
   "outputs": [
    {
     "data": {
      "text/html": [
       "<div>\n",
       "<table border=\"1\" class=\"dataframe\">\n",
       "  <thead>\n",
       "    <tr style=\"text-align: right;\">\n",
       "      <th></th>\n",
       "      <th>DC</th>\n",
       "      <th>Taxa_252</th>\n",
       "      <th>Taxa_360</th>\n",
       "    </tr>\n",
       "  </thead>\n",
       "  <tbody>\n",
       "    <tr>\n",
       "      <th>1</th>\n",
       "      <td>1</td>\n",
       "      <td>1364</td>\n",
       "      <td>1340</td>\n",
       "    </tr>\n",
       "    <tr>\n",
       "      <th>2</th>\n",
       "      <td>8</td>\n",
       "      <td>1368</td>\n",
       "      <td>1472</td>\n",
       "    </tr>\n",
       "    <tr>\n",
       "      <th>3</th>\n",
       "      <td>15</td>\n",
       "      <td>1368</td>\n",
       "      <td>1438</td>\n",
       "    </tr>\n",
       "    <tr>\n",
       "      <th>4</th>\n",
       "      <td>16</td>\n",
       "      <td>1368</td>\n",
       "      <td>1473</td>\n",
       "    </tr>\n",
       "    <tr>\n",
       "      <th>5</th>\n",
       "      <td>19</td>\n",
       "      <td>1368</td>\n",
       "      <td>1335</td>\n",
       "    </tr>\n",
       "  </tbody>\n",
       "</table>\n",
       "</div>"
      ],
      "text/plain": [
       "   DC Taxa_252  Taxa_360\n",
       "1   1     1364      1340\n",
       "2   8     1368      1472\n",
       "3  15     1368      1438\n",
       "4  16     1368      1473\n",
       "5  19     1368      1335"
      ]
     },
     "execution_count": 19,
     "metadata": {},
     "output_type": "execute_result"
    }
   ],
   "source": [
    "curva.head()"
   ]
  },
  {
   "cell_type": "markdown",
   "metadata": {
    "slideshow": {
     "slide_type": "subslide"
    }
   },
   "source": [
    "### Separando as curvas\n",
    "\n",
    "Criar 2 curvas uma de taxas em dias corridos e outra em dias úteis."
   ]
  },
  {
   "cell_type": "code",
   "execution_count": 20,
   "metadata": {
    "collapsed": false,
    "slideshow": {
     "slide_type": "fragment"
    }
   },
   "outputs": [
    {
     "data": {
      "text/html": [
       "<div>\n",
       "<table border=\"1\" class=\"dataframe\">\n",
       "  <thead>\n",
       "    <tr style=\"text-align: right;\">\n",
       "      <th></th>\n",
       "      <th>DC</th>\n",
       "      <th>Taxa_360</th>\n",
       "    </tr>\n",
       "  </thead>\n",
       "  <tbody>\n",
       "    <tr>\n",
       "      <th>1</th>\n",
       "      <td>1</td>\n",
       "      <td>13.64</td>\n",
       "    </tr>\n",
       "    <tr>\n",
       "      <th>2</th>\n",
       "      <td>8</td>\n",
       "      <td>13.68</td>\n",
       "    </tr>\n",
       "    <tr>\n",
       "      <th>3</th>\n",
       "      <td>15</td>\n",
       "      <td>13.68</td>\n",
       "    </tr>\n",
       "  </tbody>\n",
       "</table>\n",
       "</div>"
      ],
      "text/plain": [
       "   DC  Taxa_360\n",
       "1   1     13.64\n",
       "2   8     13.68\n",
       "3  15     13.68"
      ]
     },
     "execution_count": 20,
     "metadata": {},
     "output_type": "execute_result"
    }
   ],
   "source": [
    "curva360 = pd.DataFrame({'DC': curva['DC'].apply(int),\n",
    "                         'Taxa_360': curva['Taxa_252'].apply(lambda x: float(x)/100)})\n",
    "curva360.head(3)"
   ]
  },
  {
   "cell_type": "code",
   "execution_count": 21,
   "metadata": {
    "collapsed": false,
    "slideshow": {
     "slide_type": "fragment"
    }
   },
   "outputs": [
    {
     "data": {
      "text/html": [
       "<div>\n",
       "<table border=\"1\" class=\"dataframe\">\n",
       "  <thead>\n",
       "    <tr style=\"text-align: right;\">\n",
       "      <th></th>\n",
       "      <th>DU</th>\n",
       "      <th>Taxa_252</th>\n",
       "    </tr>\n",
       "  </thead>\n",
       "  <tbody>\n",
       "    <tr>\n",
       "      <th>1</th>\n",
       "      <td>1</td>\n",
       "      <td>13.64</td>\n",
       "    </tr>\n",
       "    <tr>\n",
       "      <th>2</th>\n",
       "      <td>6</td>\n",
       "      <td>13.68</td>\n",
       "    </tr>\n",
       "    <tr>\n",
       "      <th>3</th>\n",
       "      <td>11</td>\n",
       "      <td>13.68</td>\n",
       "    </tr>\n",
       "  </tbody>\n",
       "</table>\n",
       "</div>"
      ],
      "text/plain": [
       "   DU  Taxa_252\n",
       "1   1     13.64\n",
       "2   6     13.68\n",
       "3  11     13.68"
      ]
     },
     "execution_count": 21,
     "metadata": {},
     "output_type": "execute_result"
    }
   ],
   "source": [
    "refdate = '2015-07-15'\n",
    "dates = list(cal360.vec.offset(refdate, curva360['DC']))\n",
    "\n",
    "curva252 = pd.DataFrame({'DU': list(cal252.vec.bizdays(refdate, dates)),\n",
    "                         'Taxa_252': curva['Taxa_252'].apply(lambda x: float(x)/100)})\n",
    "curva252.head(3)"
   ]
  },
  {
   "cell_type": "markdown",
   "metadata": {
    "slideshow": {
     "slide_type": "slide"
    }
   },
   "source": [
    "## Definindo vencimentos dos contratos"
   ]
  },
  {
   "cell_type": "markdown",
   "metadata": {
    "slideshow": {
     "slide_type": "fragment"
    }
   },
   "source": [
    "### Maioria dos contratos futuros\n",
    "\n",
    "Vencimento no primeiro dia de cada mês"
   ]
  },
  {
   "cell_type": "code",
   "execution_count": 22,
   "metadata": {
    "collapsed": false,
    "slideshow": {
     "slide_type": "fragment"
    }
   },
   "outputs": [
    {
     "data": {
      "text/plain": [
       "datetime.date(2015, 1, 1)"
      ]
     },
     "execution_count": 22,
     "metadata": {},
     "output_type": "execute_result"
    }
   ],
   "source": [
    "cal.getdate('first day', 2015, 1)"
   ]
  },
  {
   "cell_type": "code",
   "execution_count": 23,
   "metadata": {
    "collapsed": false,
    "slideshow": {
     "slide_type": "fragment"
    }
   },
   "outputs": [
    {
     "data": {
      "text/plain": [
       "datetime.date(2015, 5, 1)"
      ]
     },
     "execution_count": 23,
     "metadata": {},
     "output_type": "execute_result"
    }
   ],
   "source": [
    "cal.getdate('1st day', 2015, 5)"
   ]
  },
  {
   "cell_type": "markdown",
   "metadata": {
    "slideshow": {
     "slide_type": "fragment"
    }
   },
   "source": [
    "### Contratos futuros de inflação\n",
    "\n",
    "Vencimento do dia 15 de cada mês"
   ]
  },
  {
   "cell_type": "code",
   "execution_count": 24,
   "metadata": {
    "collapsed": false,
    "slideshow": {
     "slide_type": "fragment"
    }
   },
   "outputs": [
    {
     "data": {
      "text/plain": [
       "datetime.date(2015, 7, 15)"
      ]
     },
     "execution_count": 24,
     "metadata": {},
     "output_type": "execute_result"
    }
   ],
   "source": [
    "cal.getdate('15th day', 2015, 7)"
   ]
  },
  {
   "cell_type": "markdown",
   "metadata": {
    "slideshow": {
     "slide_type": "subslide"
    }
   },
   "source": [
    "### Contratos futuros de soja\n",
    "\n",
    "Vencimento nos segundos dias úteis"
   ]
  },
  {
   "cell_type": "code",
   "execution_count": 25,
   "metadata": {
    "collapsed": false,
    "slideshow": {
     "slide_type": "fragment"
    }
   },
   "outputs": [
    {
     "data": {
      "text/plain": [
       "datetime.date(2015, 5, 5)"
      ]
     },
     "execution_count": 25,
     "metadata": {},
     "output_type": "execute_result"
    }
   ],
   "source": [
    "cal.getdate('2nd bizday', 2015, 5)"
   ]
  },
  {
   "cell_type": "markdown",
   "metadata": {
    "slideshow": {
     "slide_type": "fragment"
    }
   },
   "source": [
    "### Contratos futuros de boi gordo\n",
    "\n",
    "Vencimento no último dia útil do mês"
   ]
  },
  {
   "cell_type": "code",
   "execution_count": 26,
   "metadata": {
    "collapsed": false,
    "slideshow": {
     "slide_type": "fragment"
    }
   },
   "outputs": [
    {
     "data": {
      "text/plain": [
       "datetime.date(2015, 5, 29)"
      ]
     },
     "execution_count": 26,
     "metadata": {},
     "output_type": "execute_result"
    }
   ],
   "source": [
    "cal.getdate('last bizday', 2015, 5)"
   ]
  },
  {
   "cell_type": "markdown",
   "metadata": {
    "slideshow": {
     "slide_type": "subslide"
    }
   },
   "source": [
    "### Contratos futuros de café\n",
    "\n",
    "Vencimento do sexto dia útil anterior ao último dia do mês"
   ]
  },
  {
   "cell_type": "code",
   "execution_count": 27,
   "metadata": {
    "collapsed": false,
    "slideshow": {
     "slide_type": "fragment"
    }
   },
   "outputs": [
    {
     "data": {
      "text/plain": [
       "datetime.date(2015, 7, 23)"
      ]
     },
     "execution_count": 27,
     "metadata": {},
     "output_type": "execute_result"
    }
   ],
   "source": [
    "cal.getdate('6th bizday before last day', 2015, 7)"
   ]
  },
  {
   "cell_type": "markdown",
   "metadata": {
    "slideshow": {
     "slide_type": "fragment"
    }
   },
   "source": [
    "### Contratos futuros de índice (IBOVESPA)\n",
    "\n",
    "Vencimento na quarta-feira mais próxima do dia 15 do mês"
   ]
  },
  {
   "cell_type": "code",
   "execution_count": 28,
   "metadata": {
    "collapsed": false,
    "slideshow": {
     "slide_type": "fragment"
    }
   },
   "outputs": [
    {
     "data": {
      "text/plain": [
       "datetime.date(2015, 6, 17)"
      ]
     },
     "execution_count": 28,
     "metadata": {},
     "output_type": "execute_result"
    }
   ],
   "source": [
    "cal.getdate('first wed after 15th day', 2015, 6)"
   ]
  },
  {
   "cell_type": "code",
   "execution_count": 29,
   "metadata": {
    "collapsed": false,
    "slideshow": {
     "slide_type": "fragment"
    }
   },
   "outputs": [
    {
     "data": {
      "text/plain": [
       "datetime.date(2015, 6, 10)"
      ]
     },
     "execution_count": 29,
     "metadata": {},
     "output_type": "execute_result"
    }
   ],
   "source": [
    "cal.getdate('first wed before 15th day', 2015, 6)"
   ]
  },
  {
   "cell_type": "markdown",
   "metadata": {
    "slideshow": {
     "slide_type": "slide"
    }
   },
   "source": [
    "Wilson Freitas — http://blog.aboutwilson.net/\n",
    "\n",
    "[github](https://github.com/wilsonfreitas)\n",
    "\n",
    "[@aboutwilson](http://www.twitter.com/aboutwilson)"
   ]
  }
 ],
 "metadata": {
  "celltoolbar": "Slideshow",
  "kernelspec": {
   "display_name": "Python 3",
   "language": "python",
   "name": "python3"
  },
  "language_info": {
   "codemirror_mode": {
    "name": "ipython",
    "version": 3
   },
   "file_extension": ".py",
   "mimetype": "text/x-python",
   "name": "python",
   "nbconvert_exporter": "python",
   "pygments_lexer": "ipython3",
   "version": "3.4.3"
  }
 },
 "nbformat": 4,
 "nbformat_minor": 0
}
